{
 "cells": [
  {
   "cell_type": "code",
   "execution_count": 7,
   "metadata": {},
   "outputs": [
    {
     "name": "stdout",
     "output_type": "stream",
     "text": [
      "input a positive integer larger than 2 281\n",
      "This is a prime number\n"
     ]
    }
   ],
   "source": [
    "num = int(input(\"input a positive integer larger than 2 \"))\n",
    "i = 2\n",
    "while i < num:\n",
    "    re = num % i\n",
    "    if re != 0:\n",
    "        i = i+1\n",
    "    else:\n",
    "        i = num +1\n",
    "if i == num + 1:\n",
    "    print(\"This is not a prime number\")\n",
    "else:\n",
    "    print(\"This is a prime number\")"
   ]
  }
 ],
 "metadata": {
  "kernelspec": {
   "display_name": "Python 3",
   "language": "python",
   "name": "python3"
  },
  "language_info": {
   "codemirror_mode": {
    "name": "ipython",
    "version": 3
   },
   "file_extension": ".py",
   "mimetype": "text/x-python",
   "name": "python",
   "nbconvert_exporter": "python",
   "pygments_lexer": "ipython3",
   "version": "3.7.4"
  }
 },
 "nbformat": 4,
 "nbformat_minor": 2
}
